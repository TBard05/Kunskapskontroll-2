{
 "cells": [
  {
   "cell_type": "markdown",
   "id": "eb49a753",
   "metadata": {},
   "source": [
    "# Matplotlib\n",
    "Read the tutorials: https://matplotlib.org/stable/users/explain/quick_start.html and https://matplotlib.org/stable/tutorials/pyplot.html before solving the exercises below. The \"Pyplot Tutorial\" you do not read in detail but it is good to know about since the fact that there are two approaches to plotting can be confusing if you are not aware of both of the approaches."
   ]
  },
  {
   "cell_type": "code",
   "execution_count": 1,
   "id": "9b1ffb1b",
   "metadata": {},
   "outputs": [],
   "source": [
    "import numpy as np\n",
    "import matplotlib.pyplot as plt"
   ]
  },
  {
   "cell_type": "markdown",
   "id": "35e4f6cd",
   "metadata": {},
   "source": [
    "### Plotting in Matplotlib can be done in either of two ways, which ones? Which way is the recommended approach?"
   ]
  },
  {
   "cell_type": "markdown",
   "id": "2db0fb3e",
   "metadata": {},
   "source": [
    "Det finns explicit och implicit. Då Matplotlibs dokumentation rekommenderar explicit, är det bra att kunna båda, eftersom båda kan förekomma."
   ]
  },
  {
   "cell_type": "markdown",
   "id": "00d119a1",
   "metadata": {},
   "source": [
    "### Explain shortly what a figure, axes, axis and an artist is in Matplotlib."
   ]
  },
  {
   "cell_type": "markdown",
   "id": "9b9fa05a",
   "metadata": {},
   "source": [
    "Figure: Håller koll på allt som diagrammet består av, t.ex. linjer och prickar.\n",
    "\n",
    "Axes: En figur kan bestå av flera axlar och kort beskrivet är det där en punkt landar eller en linje dras i diagrammet.\n",
    "\n",
    "Axis: Är en del av axes, den representerar x och y antingen horisontellt eller vertikalt.\n",
    "\n",
    "Artist: I princip allt synligt är en artist, texten eller linjerna."
   ]
  },
  {
   "cell_type": "markdown",
   "id": "986b324c",
   "metadata": {},
   "source": [
    "### When plotting in Matplotlib, what is the expected input data type?"
   ]
  },
  {
   "cell_type": "markdown",
   "id": "79a18b02",
   "metadata": {},
   "source": [
    "Listor, NumPy-arrayer och Pandas Series eller DataFrame."
   ]
  },
  {
   "cell_type": "markdown",
   "id": "8ff546a1",
   "metadata": {},
   "source": [
    "### Create a plot of the function y = x^2 [from -4 to 4, hint use the np.linspace function] both in the object-oriented approach and the pyplot approach. Your plot should have a title and axis-labels."
   ]
  },
  {
   "cell_type": "code",
   "execution_count": null,
   "id": "738b8a75",
   "metadata": {},
   "outputs": [],
   "source": [
    "x = np.linspace(-4, 4)\n",
    "y = x**2\n",
    "\n",
    "fig, ax = plt.subplots()\n",
    "\n",
    "ax.plot(x, y)\n",
    "\n",
    "ax.set_title('axis-labels')"
   ]
  },
  {
   "cell_type": "code",
   "execution_count": null,
   "id": "1e4f37ca",
   "metadata": {},
   "outputs": [],
   "source": [
    "x = np.linspace(-4, 4, 100)\n",
    "y = x**2\n",
    "\n",
    "plt.plot(x, y)\n",
    "\n",
    "plt.title('axis-labels')"
   ]
  },
  {
   "cell_type": "markdown",
   "id": "f6313412",
   "metadata": {},
   "source": [
    "### Create a figure containing 2  subplots where the first is a scatter plot and the second is a bar plot. You have the data below. "
   ]
  },
  {
   "cell_type": "code",
   "execution_count": null,
   "id": "81b6723d",
   "metadata": {},
   "outputs": [],
   "source": [
    "# Data för scatter plot\n",
    "np.random.seed(15)\n",
    "random_data_x = np.random.randn(1000)\n",
    "random_data_y = np.random.randn(1000)\n",
    "x = np.linspace(-2, 2)\n",
    "y = x**2\n",
    "\n",
    "# Data för bar plot\n",
    "fruit_data = {'grapes': 22, 'apple': 8, 'orange': 15, 'lemon': 20, 'lime': 25}\n",
    "names = list(fruit_data.keys())\n",
    "values = list(fruit_data.values())"
   ]
  },
  {
   "cell_type": "code",
   "execution_count": null,
   "id": "b84f15d0",
   "metadata": {},
   "outputs": [],
   "source": [
    "#Scatter\n",
    "fig, ax = plt.subplots(figsize=(9, 3))\n",
    "ax.scatter(random_data_x, random_data_y, alpha=0.5)# alpha minskar en eyesoar\n",
    "\n",
    "#Bar\n",
    "fig, ax = plt.subplots(figsize=(9, 3))\n",
    "ax.bar(names, values, color='orange')"
   ]
  }
 ],
 "metadata": {
  "kernelspec": {
   "display_name": "base",
   "language": "python",
   "name": "python3"
  },
  "language_info": {
   "codemirror_mode": {
    "name": "ipython",
    "version": 3
   },
   "file_extension": ".py",
   "mimetype": "text/x-python",
   "name": "python",
   "nbconvert_exporter": "python",
   "pygments_lexer": "ipython3",
   "version": "3.12.7"
  }
 },
 "nbformat": 4,
 "nbformat_minor": 5
}
